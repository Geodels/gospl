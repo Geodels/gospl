{
 "cells": [
  {
   "cell_type": "markdown",
   "metadata": {},
   "source": [
    "# Dual-lithology example\n",
    "\n",
    "\n",
    "To run the notebook several post and pre-processing libraries are required:\n",
    "\n",
    "- `panel` \n",
    "- `pyvista` \n",
    "- `pyevtk`\n",
    "- `jigsaw`\n",
    "\n",
    "To install these dependencies **read the documentation in the user guide page**. \n",
    "\n",
    "\n",
    "In addition, to these libraries several Python functions have been defined to ease the creation of `gospl` input files and the visualisation of the ouputs. These functions are located in the `script` folder in the same directory as this notebook:\n",
    "\n",
    "- `buildMesh.py` creates the initial mesh using the `jigsaw` library\n",
    "- `runModel.py` runs `gospl` based on the provided input file\n",
    "- `readOutput.py` builds a `VTK` file from model outputs\n",
    "- `stratal.py` extract the recorded stratigraphy in a specific region"
   ]
  },
  {
   "cell_type": "code",
   "execution_count": null,
   "metadata": {},
   "outputs": [],
   "source": [
    "import numpy as np\n",
    "import pyvista as pv\n",
    "from script import stratal as strat\n",
    "from script import readOutput as rout\n",
    "\n",
    "import matplotlib\n",
    "from matplotlib import cm\n",
    "import matplotlib.pyplot as plt\n",
    "import matplotlib.colors as colors\n",
    "from mpl_toolkits.axes_grid1 import make_axes_locatable\n",
    "\n",
    "label_size = 7\n",
    "matplotlib.rcParams['xtick.labelsize'] = label_size \n",
    "matplotlib.rcParams['ytick.labelsize'] = label_size\n",
    "matplotlib.rc('font', size=6)\n",
    "\n",
    "%matplotlib inline\n",
    "%config InlineBackend.figure_format = 'svg' "
   ]
  },
  {
   "cell_type": "markdown",
   "metadata": {},
   "source": [
    "## 1. Input files: topography and rainfall\n",
    "\n",
    "\n",
    "First we have a `data` folder containing relevant inputs for the simulation.\n",
    "\n",
    "1. First, we will use a 0.1 degree resolution `netcdf` **topography grid** at present day (freely available paleoDEM files can be obtained from different sources, an example being the [gPlates webportal](https://www.earthbyte.org/paleodem-resource-scotese-and-wright-2018/)), and\n",
    "2. Second, we will use a **rainfall map** based on current day precipitation, the dataset is again a `netcdf` file at 1.0 degree.\n",
    "\n",
    "\n",
    "<div class=\"alert alert-success\">\n",
    "<b>NOTE</b> The folder is organised with specific sub-directory that are used later on during the mesh creation. You will need to follow this structure if you want to use your own dataset. Specifically the following folder names will be search: <code>paleomap</code> and <code>precipitation</code>.\n",
    "</div>"
   ]
  },
  {
   "cell_type": "markdown",
   "metadata": {},
   "source": [
    "## 2. Initial unstructured mesh generation\n",
    "\n",
    "We start by creating the unstructured mesh using `jigsaw` library. It is ran from the terminal using `buildMesh.py` script.\n",
    "\n",
    "```bash\n",
    "python3 script/buildMesh.py -t=0 -d=data -s=5000,1000,100\n",
    "```\n",
    "\n",
    "This function takes 3 arguments:\n",
    "\n",
    "* `t` the time interval in Ma of the starting simulation time (here 0 Ma as we start at present day),\n",
    "* `d` the folder containing the input conditions. The code assumes that the paleo-elevations are located in the folder **data** under **paleomap** and are `netCDF` files of the form `XXMa.nc` with `XX` the specified time. It also assumes that the displacement maps are located in **velocity** and are off the form `velocity_ XXMa.xy`. Lastly for the paleo-precipitation, the assumed file is under **precipitation** and are `netCDF` files of the form `XXMa.nc` as well.\n",
    "* `s` is the space conditions for the `jigsaw` algorithm and consists of 3 values: the spacing in km for the mesh in the deep ocean (<=-1000 m), the spacing in km across shelf margin (>=-1000 m and < 0m) and the spacing in km in the continental domain. Here, the resolution will vary from 5000 km to 1000 km and 100 km respectively. This is set at pretty low resolution to ensure a quicker runtime. We often use the following values `-s=100,30,15` in our run."
   ]
  },
  {
   "cell_type": "code",
   "execution_count": null,
   "metadata": {},
   "outputs": [],
   "source": [
    "%run script/buildMesh.py -t=0 -d=data -s=5000,1000,100"
   ]
  },
  {
   "cell_type": "markdown",
   "metadata": {},
   "source": [
    "From the previous script, you will get a new folder created called `input0` that contains the mesh information and the associated discretised elevation and rainfall values. Specifically you will have:\n",
    "\n",
    "- `input0/mesh0.vtk`: the VTK file containing the elevation at specified resolution,\n",
    "- `input0/0Ma.npz`: a Numpy compressed file with the mesh coordinates, cells, each vertice neighbours indices and the nodes elevation,\n",
    "- `input0/rain0Ma.npz`: a Numpy compressed file with the precipitation values for each mesh vertice.\n",
    "\n",
    "Before going further, you can check the mesh validity by loading the created `VTK` file (`input0/mesh0.vtk`)."
   ]
  },
  {
   "cell_type": "code",
   "execution_count": null,
   "metadata": {},
   "outputs": [],
   "source": [
    "mesh = pv.read('input0/mesh0.vtk')\n",
    "elev = mesh.get_array(name='value')\n",
    "\n",
    "earthRadius = 6.371e6\n",
    "scale = 20.\n",
    "factor = 1.+ (elev/earthRadius)*scale\n",
    "\n",
    "mesh.points[:, 0] *= factor\n",
    "mesh.points[:, 1] *= factor\n",
    "mesh.points[:, 2] *= factor\n",
    "\n",
    "contour = mesh.contour([0])\n",
    "\n",
    "plot = pv.PlotterITK()\n",
    "plot.add_mesh(mesh, scalars=\"value\")\n",
    "plot.add_mesh(contour, color=\"black\", opacity=1.)\n",
    "plot.show()"
   ]
  },
  {
   "cell_type": "markdown",
   "metadata": {},
   "source": [
    "## 3. Creating the initial stratigraphic mesh\n",
    "\n",
    "In addition to the previous input files, we will specify an initial stratigraphic mesh. Here we impose a simple uniform 50 km thick layer for the entire globe composed of a 30% of fine and 70% of coarse sediment. \n",
    "\n",
    "<div class=\"alert alert-success\">\n",
    "<b>NOTE</b> More complex stratigraphy can be defined with multiple layers varying spatially in thickness and composition.\n",
    "</div>\n",
    "\n",
    "In addition, to the layer thicknesses and compositions, `gospl` requires the porosity of each sediment type present in a given layer to be specified.\n",
    "\n",
    "Here we follow the approach presented in the [technical guide](https://gospl.readthedocs.io/en/latest/tech_guide/strat.html#porosity-and-compaction) of the documentation, and the porosity is considered to varies with depth z.\n",
    "\n",
    "$$\\phi(z) = \\phi_0 e^{−z/z_0}$$"
   ]
  },
  {
   "cell_type": "code",
   "execution_count": null,
   "metadata": {},
   "outputs": [],
   "source": [
    "# Loading gospl mesh\n",
    "loadMesh = np.load('input0/0Ma.npz')\n",
    "gCoords = loadMesh[\"v\"]\n",
    "gZ = loadMesh[\"z\"][:,0]\n",
    "\n",
    "# Define layers variables\n",
    "H = np.zeros((len(gZ),3)) # thickness\n",
    "Z = H.copy()              # elevation\n",
    "Fperc = H.copy()          # fine fraction\n",
    "Wperc = H.copy()          # weathered fraction\n",
    "Fphi = H.copy()           # fine porosity\n",
    "Sphi = H.copy()           # coarse porosity\n",
    "Wphi = H.copy()           # weathered porosity\n",
    "\n",
    "H[:,0] = 1.0              # 1 m thick\n",
    "H[:,1] = 5.0e3            # 10 km thick\n",
    "H[:,2] = 10.0e3           # 10 km thick\n",
    "\n",
    "Fperc[:,0] = 0.3          # 40% of fines\n",
    "Fperc[:,1] = 0.3          # 40% of fines\n",
    "Fperc[:,2] = 0.3          # 40% of fines\n",
    "\n",
    "Wperc[:,0] = 0.2          # 20% of fines\n",
    "Wperc[:,1] = 0.2          # 20% of fines\n",
    "Wperc[:,2] = 0.2          # 20% of fines\n",
    "\n",
    "Z[:,0] = gZ - 15000.5     # elevation at the centre of layer 0\n",
    "Z[:,1] = gZ - 12500.0     # elevation at the centre of layer 1\n",
    "Z[:,2] = gZ - 5000.0      # elevation at the centre of layer 2\n",
    "\n",
    "phis = 0.49               # Coarse sediment surface porosity\n",
    "phif = 0.63               # Fine sediment surface porosity\n",
    "phiw = 0.65               # Weathered sediment surface porosity\n",
    "\n",
    "z0s = 3700.0              # e-folding coarse sediment thickness for porosity reduction 3700 m\n",
    "z0f = 1960.0              # e-folding fine sediment thickness for porosity reduction 1960 m\n",
    "z0w = 1600.0              # e-folding weathered sediment thickness for porosity reduction 1960 m\n",
    "\n",
    "# Weathered sediment porosity for each layer\n",
    "Wphi0 = phiw * np.exp(-15000.5/z0w)\n",
    "Wphi1 = phiw * np.exp(-12500./z0w)\n",
    "Wphi2 = phiw * np.exp(-5000./z0w)\n",
    "Wphi[:,0] = Wphi0\n",
    "Wphi[:,1] = Wphi1\n",
    "Wphi[:,2] = Wphi2\n",
    "\n",
    "# Fine sediment porosity for each layer\n",
    "Fphi0 = phif * np.exp(-15000.5/z0f)\n",
    "Fphi1 = phif * np.exp(-12500./z0f)\n",
    "Fphi2 = phif * np.exp(-5000./z0f)\n",
    "Fphi[:,0] = Fphi0\n",
    "Fphi[:,1] = Fphi1\n",
    "Fphi[:,2] = Fphi2\n",
    "\n",
    "# Coarse sediment porosity for each layer\n",
    "Sphi0 = phis * np.exp(-15000.5/z0s)\n",
    "Sphi1 = phis * np.exp(-12500./z0s)\n",
    "Sphi2 = phis * np.exp(-5000./z0s)\n",
    "Sphi[:,0] = Sphi0\n",
    "Sphi[:,1] = Sphi1\n",
    "Sphi[:,2] = Sphi2\n",
    "\n",
    "# Save the stratigraphic mesh as a Numpy file...\n",
    "np.savez_compressed('input0/sed0Ma', strataH=H, strataF=Fperc, strataW=Wperc, strataZ=Z, \n",
    "                    phiF=Fphi, phiS=Sphi, phiW=Wphi)"
   ]
  },
  {
   "cell_type": "markdown",
   "metadata": {},
   "source": [
    "## 4. Run gospl\n",
    "\n",
    "Running `gospl` is done by calling the `runModel.py` script with the name of the input file as argument. \n",
    "\n",
    "\n",
    "The Python script takes the following arguments:\n",
    "\n",
    "1. `-i XXXX.yml` specifying the input file name (required)  \n",
    "2. `-l True/False` for outputing PETSc log during runtime (default is set to False)\n",
    "3. `-v True/False` for verbosing option during runtime (default is set to False)\n",
    "\n",
    "You can open the `input.yml` file to look at the parameters that are setup for this model. A complete list of the `gospl` input variables is available in the [user guide](https://gospl.readthedocs.io/en/latest/user_guide/inputfile.html) documentation."
   ]
  },
  {
   "cell_type": "code",
   "execution_count": null,
   "metadata": {},
   "outputs": [],
   "source": [
    "# On a single processor...\n",
    "#%run script/runModel.py -i input.yml\n",
    "\n",
    "# In parallel...\n",
    "!mpirun -np 8 python3 script/runModel.py -i input.yml"
   ]
  },
  {
   "cell_type": "markdown",
   "metadata": {},
   "source": [
    "## 5. Visualisation in a notebook environment\n",
    "\n",
    "The preferred way for visualising the model output is via `Paraview` by loading the time series file called `gospl.xdmf` available in the output folder (here called `dual-lithologies`). \n",
    "\n",
    "Amongst the temporal variables outputed by `gospl` you will find:\n",
    "\n",
    "- surface elevation elev.\n",
    "- cumulative erosion & deposition values erodep.\n",
    "- flow accumulation flowAcc before pit filling.\n",
    "- flow accumulation fillAcc for depressionless surface.\n",
    "- river sediment load sedLoad.\n",
    "- fine sediment load sedLoadf when dual lithologies are accounted for.\n",
    "- uplift subsidence values if vertical tectonic forcing is considered uplift.\n",
    "- horizontal displacement values when considered hdisp.\n",
    "- precipitation maps based on forcing conditions rain.\n",
    "\n",
    "Several filters, rendering and calculation can be done with `Paraview` but are beyond the scope of this example. \n",
    "\n",
    "Here you will use the `readOutput.py` functions available in the `script` folder to visualise directly the model output in the notebook at the final time step.\n",
    "\n",
    "The function requires several arguments:\n",
    "\n",
    "- `path`: the path to the input file \n",
    "- `filename`: the name of the input file\n",
    "- `step`: the step you wish to output (here set to 10 corresponding to the last output based on the input parameters: start time 0 year, end time 1 million years with an output every 0.1 million years)\n",
    "- `back`: set to `False` as the simulation is not a backward forward model \n",
    "- `uplift`: set to `False` as we are not considering any tectonic forcing\n"
   ]
  },
  {
   "cell_type": "code",
   "execution_count": null,
   "metadata": {},
   "outputs": [],
   "source": [
    "# Reading the final output generated by gospl\n",
    "output = rout.readOutput(path='./', filename='input.yml',step=10, back=False, uplift=False)\n",
    "\n",
    "# Exporting the final output as a VTK mesh\n",
    "output.exportVTK('step10.vtk')"
   ]
  },
  {
   "cell_type": "markdown",
   "metadata": {},
   "source": [
    "We can now visualise the `VTK` output in the notebook directly:"
   ]
  },
  {
   "cell_type": "code",
   "execution_count": null,
   "metadata": {},
   "outputs": [],
   "source": [
    "mesh = pv.read('step10.vtk')\n",
    "elev = mesh.get_array(name='elev')\n",
    "\n",
    "earthRadius = 6.371e6\n",
    "scale = 20.\n",
    "factor = 1.+ (elev/earthRadius)*scale\n",
    "\n",
    "mesh.points[:, 0] *= factor\n",
    "mesh.points[:, 1] *= factor\n",
    "mesh.points[:, 2] *= factor\n",
    "\n",
    "contour = mesh.contour([0])\n",
    "\n",
    "plot = pv.PlotterITK()\n",
    "plot.add_mesh(mesh, scalars=\"elev\")\n",
    "plot.add_mesh(contour, color=\"black\", opacity=1.)\n",
    "plot.show()"
   ]
  },
  {
   "cell_type": "markdown",
   "metadata": {},
   "source": [
    "## 6. Extract stratigraphy\n",
    "\n",
    "Finally, we will look at the recorded stratigraphy. The stratigraphic layer are recorded in `gospl` as `HDF5` files stored in the output folder as `stratal.XX.pX.h5` where `XX` is the output step and `X` the processor number.\n",
    "\n",
    "The following information are stored:\n",
    "\n",
    "- elevation at time of deposition, considered to be to the current elevation for the top stratigraphic layer stratZ.\n",
    "- thickness of each stratigrapic layer stratH accounting for both erosion & deposition events.\n",
    "- proportion of fine sediment stratF contains in each stratigraphic layer.\n",
    "- porosity of coarse sediment phiS in each stratigraphic layer computed at center of each layer.\n",
    "- porosity of fine sediment phiF in each stratigraphic layer computed at center of each layer.\n",
    "\n",
    "We will use the `stratal.py` function to extract the information above. It requires the following arguments:\n",
    "1. `path`: the path to the input file\n",
    "2. `filename`: the name of the input file\n",
    "3. `layer`: the stratal file you wish to output"
   ]
  },
  {
   "cell_type": "code",
   "execution_count": null,
   "metadata": {},
   "outputs": [],
   "source": [
    "# Load the function and specify the input file\n",
    "strati = strat.stratal(path='./', filename='input.yml', layer=10)\n",
    "\n",
    "# Read the stratigraphic dataset \n",
    "strati.readStratalData()\n",
    "\n",
    "# Interpolate the spherical dataset on a lon/lat regular grid \n",
    "# by specifying the desired resolution and interpolation neighbours\n",
    "strati.buildLonLatMesh(res=0.1, nghb=3)"
   ]
  },
  {
   "cell_type": "markdown",
   "metadata": {},
   "source": [
    "We can visualise the create maps directly by doing..."
   ]
  },
  {
   "cell_type": "code",
   "execution_count": null,
   "metadata": {},
   "outputs": [],
   "source": [
    "fig = plt.figure(figsize=(10,8))\n",
    "ax = fig.add_subplot(111)\n",
    "\n",
    "ax.imshow(np.flipud(strati.zi[-1,:,:]), extent=(-180, 180, -90, 90), vmin=-8000, vmax=8000, cmap=cm.bwr) \n",
    "ax.set(xlabel='Longitude', ylabel='Latitude', yticks=np.arange(-90,120,30), xticks=np.arange(-180,180,30))\n",
    "ax.minorticks_on()"
   ]
  },
  {
   "cell_type": "markdown",
   "metadata": {},
   "source": [
    "We will now extract the stratigraphic layer for a specific region by using the `writeMesh` function which takes the following argument:\n",
    "\n",
    "- `vtkfile` the output name of the `VTK` stratigraphic mesh to create\n",
    "- `lats` latitude of the lower left and upper right corner of the region (specified between -90 and 90 degree)\n",
    "- `lons` longitude of the lower left and upper right corner of the region (specified between -180 and 180 degree)\n",
    "- `sigma` the standard deviation for Gaussian kernel as defined in SciPy `gaussian_filter` [function](https://docs.scipy.org/doc/scipy/reference/generated/scipy.ndimage.gaussian_filter.html).\n",
    "\n",
    "The function returns the domain length in meters along the X and Y borders. \n",
    "\n",
    "Here we chose a region around the **Ganges–Brahmaputra–Meghna delta**."
   ]
  },
  {
   "cell_type": "code",
   "execution_count": null,
   "metadata": {},
   "outputs": [],
   "source": [
    "length = strati.writeMesh(vtkfile='strati2D', \n",
    "                          lats=[9,24], \n",
    "                          lons=[82,97], \n",
    "                          sigma=2.)"
   ]
  },
  {
   "cell_type": "markdown",
   "metadata": {},
   "source": [
    "The function will build a `VTK` structured mesh containing the stratigraphic record for the region. \n",
    "\n",
    "Here we will set the slice at the center of the domain...\n",
    "\n",
    "We can viusualise the stratigraphic layers in the notebook:"
   ]
  },
  {
   "cell_type": "code",
   "execution_count": null,
   "metadata": {},
   "outputs": [],
   "source": [
    "mesh = pv.read('strati2D.vts')\n",
    "mesh.set_active_scalars('layID')\n",
    "threshold = mesh.threshold([2,52])\n",
    "\n",
    "surface = mesh.threshold([50,52])\n",
    "\n",
    "# Position cross-section at the center of the region\n",
    "slices = threshold.slice_orthogonal(x=length[0]/2, y=length[-1]/2, z=-10)\n",
    "\n",
    "scale_factor = 5\n",
    "slices[0].points[:, -1] *= scale_factor\n",
    "slices[1].points[:, -1] *= scale_factor\n",
    "\n",
    "contours0 = slices[0].contour(np.linspace(0, 51, 52))\n",
    "contours1 = slices[1].contour(np.linspace(0, 51, 52))\n",
    "\n",
    "surface.points[:, -1] *= scale_factor\n",
    "\n",
    "p = pv.PlotterITK()\n",
    "p.add_mesh(surface, scalars=\"dep elev\", opacity=0.25)\n",
    "p.add_mesh(slices[0], scalars=\"percfine\")\n",
    "p.add_mesh(slices[1], scalars=\"percfine\")\n",
    "p.add_mesh(contours0, color=\"black\", opacity=1.)\n",
    "p.add_mesh(contours1, color=\"black\", opacity=1.)\n",
    "\n",
    "p.show()"
   ]
  },
  {
   "cell_type": "code",
   "execution_count": null,
   "metadata": {},
   "outputs": [],
   "source": []
  }
 ],
 "metadata": {
  "kernelspec": {
   "display_name": "Python 3",
   "language": "python",
   "name": "python3"
  },
  "language_info": {
   "codemirror_mode": {
    "name": "ipython",
    "version": 3
   },
   "file_extension": ".py",
   "mimetype": "text/x-python",
   "name": "python",
   "nbconvert_exporter": "python",
   "pygments_lexer": "ipython3",
   "version": "3.8.8"
  }
 },
 "nbformat": 4,
 "nbformat_minor": 4
}
